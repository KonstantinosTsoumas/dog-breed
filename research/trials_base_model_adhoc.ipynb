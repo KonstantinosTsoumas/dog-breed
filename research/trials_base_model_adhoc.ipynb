{
 "cells": [
  {
   "cell_type": "code",
   "execution_count": 1,
   "id": "d2167985",
   "metadata": {},
   "outputs": [],
   "source": [
    "import os"
   ]
  },
  {
   "cell_type": "code",
   "execution_count": 2,
   "id": "c8dac9c1",
   "metadata": {},
   "outputs": [],
   "source": [
    "os.chdir(\"../\")"
   ]
  },
  {
   "cell_type": "code",
   "execution_count": 57,
   "id": "3cd412e4",
   "metadata": {},
   "outputs": [],
   "source": [
    "from dataclasses import dataclass, field\n",
    "from pathlib import Path\n",
    "\n",
    "\n",
    "@dataclass(frozen=True)\n",
    "class PrepareBaseModelConfig:\n",
    "    root_dir: Path\n",
    "    base_model_path: Path\n",
    "    updated_base_model_path: Path\n",
    "    params_image_size: list\n",
    "    params_learning_rate: float\n",
    "    params_include_top: bool\n",
    "    params_weights: str\n",
    "    params_classes: int\n",
    "    params_freeze_all: bool = field(default=True)\n",
    "    params_freeze_till: int = field(default=2)"
   ]
  },
  {
   "cell_type": "code",
   "execution_count": 58,
   "id": "10ed9938",
   "metadata": {},
   "outputs": [],
   "source": [
    "from src.constants import *\n",
    "from src.utils.auxiliary_functions import read_yaml, create_directories\n",
    "#import tensorflow as tf\n",
    "from pathlib import Path\n",
    "from typing import Any"
   ]
  },
  {
   "cell_type": "code",
   "execution_count": 59,
   "id": "5676dcb7",
   "metadata": {},
   "outputs": [],
   "source": [
    "CONFIG_FILE_PATH = Path(\"config/config.yaml\")\n",
    "PARAMS_FILE_PATH = Path(\"params.yaml\")"
   ]
  },
  {
   "cell_type": "code",
   "execution_count": 60,
   "id": "7deee90f",
   "metadata": {},
   "outputs": [],
   "source": [
    "class ConfigurationManager:\n",
    "    def __init__(\n",
    "        self, \n",
    "        config_filepath = CONFIG_FILE_PATH,\n",
    "        params_filepath = PARAMS_FILE_PATH):\n",
    "        self.config = read_yaml(config_filepath)\n",
    "        self.params = read_yaml(params_filepath)\n",
    "        create_directories([self.config.artifacts_root])\n",
    "\n",
    "\n",
    "    def get_prepare_base_model_config(self) -> PrepareBaseModelConfig:\n",
    "        config = self.config.prepare_base_model\n",
    "        \n",
    "        create_directories([config.root_dir])\n",
    "\n",
    "        prepare_base_model_config = PrepareBaseModelConfig(\n",
    "            root_dir=Path(config.root_dir),\n",
    "            base_model_path=Path(config.base_model_path),\n",
    "            updated_base_model_path=Path(config.updated_base_model_path),\n",
    "            params_image_size=self.params.IMAGE_SIZE,\n",
    "            params_learning_rate=self.params.LEARNING_RATE,\n",
    "            params_include_top=self.params.INCLUDE_TOP,\n",
    "            params_weights=self.params.WEIGHTS,\n",
    "            params_classes=self.params.CLASSES,\n",
    "            params_freeze_all=self.params.FREEZE_ALL,\n",
    "            params_freeze_till=self.params.get('FREEZE_TILL', None)  # Use get with a default value\n",
    "        )\n",
    "\n",
    "        return prepare_base_model_config\n"
   ]
  },
  {
   "cell_type": "code",
   "execution_count": 61,
   "id": "ec0de50a",
   "metadata": {},
   "outputs": [],
   "source": [
    "import torch\n",
    "import torchvision.models as models\n",
    "from torch import nn, optim\n",
    "\n",
    "class PrepareBaseModel(nn.Module):\n",
    "    def __init__(self, config):\n",
    "        super(PrepareBaseModel, self).__init__()\n",
    "        self.config = config\n",
    "        self.params_freeze_all = self.config.params_freeze_all\n",
    "        self.params_freeze_till = self.config.params_freeze_till  # Corrected this line\n",
    "        self.model = self.get_base_model()\n",
    "        self.full_model, self.optimizer, self.loss_fn = self.update_base_model()\n",
    "\n",
    "    def get_base_model(self):\n",
    "        # Load the pre-trained ResNet101 model\n",
    "        model = models.resnet101(pretrained=self.config.params_weights)\n",
    "\n",
    "        # If not including the fully connected top layer\n",
    "        if not self.config.params_include_top:\n",
    "            model = nn.Sequential(*list(model.children())[:-2])\n",
    "        return model\n",
    "\n",
    "    def _prepare_full_model(self, model, classes, freeze_all, freeze_till, learning_rate):\n",
    "        if freeze_all:\n",
    "            for param in model.parameters():\n",
    "                param.requires_grad = False\n",
    "        elif freeze_till is not None and freeze_till > 0:\n",
    "            ct = 0\n",
    "            for child in model.children():\n",
    "                ct += 1\n",
    "                if ct < freeze_till:\n",
    "                    for param in child.parameters():\n",
    "                        param.requires_grad = False\n",
    "\n",
    "        # Modify the model based on whether it's Sequential or not\n",
    "        if isinstance(model, nn.Sequential):\n",
    "            # Adjust the in_features according to your architecture\n",
    "            in_features = 2048  # This is specific to ResNet101\n",
    "            model = nn.Sequential(\n",
    "                model,\n",
    "                nn.Flatten(),\n",
    "                nn.Linear(in_features, classes),\n",
    "                nn.Softmax(dim=1)\n",
    "            )\n",
    "        else:\n",
    "            # Replace the last fully connected layer\n",
    "            num_features = model.fc.in_features\n",
    "            model.fc = nn.Linear(num_features, classes)\n",
    "            model.add_module('softmax', nn.Softmax(dim=1))\n",
    "\n",
    "        optimizer = optim.SGD(model.parameters(), lr=learning_rate)\n",
    "        loss_fn = nn.CrossEntropyLoss()\n",
    "        return model, optimizer, loss_fn\n",
    "\n",
    "    def update_base_model(self):\n",
    "        full_model, optimizer, loss_fn = self._prepare_full_model(\n",
    "            model=self.model,\n",
    "            classes=self.config.params_classes,\n",
    "            freeze_all=self.config.params_freeze_all,\n",
    "            freeze_till=self.config.params_freeze_till,\n",
    "            learning_rate=self.config.params_learning_rate\n",
    "        )\n",
    "        return full_model, optimizer, loss_fn\n",
    "\n",
    "    @staticmethod\n",
    "    def save_model(path, model):\n",
    "        torch.save(model.state_dict(), path)\n",
    "\n",
    "# Example usage\n",
    "# You need to define your own configuration class or object\n",
    "# config = YourConfigurationClass()\n",
    "# prepare_base_model = PrepareBaseModel(config=config)"
   ]
  },
  {
   "cell_type": "code",
   "execution_count": 62,
   "id": "15741182",
   "metadata": {},
   "outputs": [
    {
     "name": "stdout",
     "output_type": "stream",
     "text": [
      "[2023-12-04 20:44:32,879: INFO: auxiliary_functions: yaml file: config/config.yaml loaded successfully]\n",
      "[2023-12-04 20:44:32,880: INFO: auxiliary_functions: The path is: config/config.yaml]\n",
      "[2023-12-04 20:44:32,882: INFO: auxiliary_functions: The content is: {'artifacts_root': 'artifacts', 'data_ingestion': {'root_dir': 'artifacts', 'local_data_file': 'artifacts/train.zip', 'local_source_file': 'artifacts/train.zip', 'unzip_dir': 'artifacts'}, 'prepare_base_model': {'root_dir': 'artifacts/prepare_base_model', 'base_model_path': 'artifacts/prepare_base_model/base_model.h5', 'updated_base_model_path': 'artifacts/prepare_base_model/base_model_updated.h5'}, 'prepare_callbacks': {'root_dir': 'artifacts/prepare_callbacks', 'tensorboard_root_log_dir': 'artifacts/prepare_callbacks/tensorboard_log_dir', 'checkpoint_model_filepath': 'artifacts/prepare_callbacks/checkpoint_dir/model.h5'}, 'training': {'root_dir': 'artifacts/training', 'trained_model_path': 'artifacts/training/model.h5'}}]\n",
      "[2023-12-04 20:44:32,885: INFO: auxiliary_functions: yaml file: params.yaml loaded successfully]\n",
      "[2023-12-04 20:44:32,886: INFO: auxiliary_functions: The path is: params.yaml]\n",
      "[2023-12-04 20:44:32,887: INFO: auxiliary_functions: The content is: {'AUGMENTATION': True, 'IMAGE_SIZE': [224, 224, 3], 'BATCH_SIZE': 32, 'INCLUDE_TOP': False, 'EPOCHS': 10, 'CLASSES': 120, 'WEIGHTS': 'imagenet', 'LEARNING_RATE': 0.01, 'FREEZE_ALL': True, 'FREEZE_TILL': 2}]\n",
      "[2023-12-04 20:44:32,890: INFO: auxiliary_functions: created directory at: artifacts]\n",
      "[2023-12-04 20:44:32,891: INFO: auxiliary_functions: created directory at: artifacts/prepare_base_model]\n"
     ]
    }
   ],
   "source": [
    "try:\n",
    "    config = ConfigurationManager()\n",
    "    prepare_base_model_config = config.get_prepare_base_model_config()\n",
    "    prepare_base_model = PrepareBaseModel(config=prepare_base_model_config)\n",
    "    prepare_base_model.get_base_model()\n",
    "    prepare_base_model.update_base_model()\n",
    "except Exception as e:\n",
    "    raise e"
   ]
  },
  {
   "cell_type": "code",
   "execution_count": null,
   "id": "3ac432c8",
   "metadata": {},
   "outputs": [],
   "source": []
  },
  {
   "cell_type": "code",
   "execution_count": null,
   "id": "5cc16d2b-8401-4845-b8a2-d765162f9d8c",
   "metadata": {},
   "outputs": [],
   "source": []
  },
  {
   "cell_type": "code",
   "execution_count": null,
   "id": "892fe324-6914-4652-8589-590511b9580f",
   "metadata": {},
   "outputs": [],
   "source": []
  }
 ],
 "metadata": {
  "kernelspec": {
   "display_name": "Python 3 (ipykernel)",
   "language": "python",
   "name": "python3"
  },
  "language_info": {
   "codemirror_mode": {
    "name": "ipython",
    "version": 3
   },
   "file_extension": ".py",
   "mimetype": "text/x-python",
   "name": "python",
   "nbconvert_exporter": "python",
   "pygments_lexer": "ipython3",
   "version": "3.11.5"
  }
 },
 "nbformat": 4,
 "nbformat_minor": 5
}
